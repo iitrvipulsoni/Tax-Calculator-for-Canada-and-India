{
 "cells": [
  {
   "cell_type": "code",
   "execution_count": 1,
   "id": "f81d4783",
   "metadata": {},
   "outputs": [
    {
     "name": "stdout",
     "output_type": "stream",
     "text": [
      "Enter country (India/Canada): India\n",
      "Enter Salary Currency Unit (Indian Rupees/Dollars): Indian Rupees\n",
      "Enter Salary: 500000\n",
      "In India if your salary is 500000 Indian Rupees then you will lie within 5% Tax slab paying 25000.0 Indian Rupees in Tax.\n"
     ]
    }
   ],
   "source": [
    "def tax_slab_identifier():\n",
    "    Country = input(\"Enter country (India/Canada): \")\n",
    "    Salary_Currency_Unit = input(\"Enter Salary Currency Unit (Indian Rupees/Dollars): \")\n",
    "    Salary = int(input(\"Enter Salary: \"))\n",
    "    if Country == 'Canada':\n",
    "        if Salary_Currency_Unit == \"Dollars\":\n",
    "            if Salary > 0 and Salary <= 50197:\n",
    "                tax_amount = Salary * 0.15\n",
    "                print(\"In {} if your salary is {} {} then you will lie within 15% Tax slab paying {} {} in Tax.\".format(Country, Salary, Salary_Currency_Unit, tax_amount, Salary_Currency_Unit))\n",
    "            elif Salary > 50197 and Salary <= 100392:\n",
    "                tax_amount = Salary * 0.205\n",
    "                print(\"In {} if your salary is {} {} then you will lie within 20.5% Tax slab paying {} {} in Tax.\".format(Country, Salary, Salary_Currency_Unit, tax_amount, Salary_Currency_Unit))\n",
    "            elif Salary > 100392 and Salary <= 155625:\n",
    "                tax_amount = Salary * 0.26\n",
    "                print(\"In {} if your salary is {} {} then you will lie within 26% Tax slab paying {} {} in Tax.\".format(Country, Salary, Salary_Currency_Unit, tax_amount, Salary_Currency_Unit))\n",
    "            elif Salary > 155625 and Salary <= 221708:\n",
    "                tax_amount = Salary * 0.29\n",
    "                print(\"In {} if your salary is {} {} then you will lie within 29% Tax slab paying {} {} in Tax.\".format(Country, Salary, Salary_Currency_Unit, tax_amount, Salary_Currency_Unit))\n",
    "            elif Salary > 221708:\n",
    "                tax_amount = Salary * 0.33\n",
    "                print(\"In {} if your salary is {} {} then you will lie within 33% Tax slab paying {} {} in Tax.\".format(Country, Salary, Salary_Currency_Unit, tax_amount, Salary_Currency_Unit))\n",
    "            else:\n",
    "                print(\"Invalid Salary! Enter valid and correct salary.\")\n",
    "        else:\n",
    "            print(\"Invalid Salary Currency Unit! Enter correct Salary Currency Unit as per the country.\")\n",
    "    elif Country == 'India':\n",
    "        if Salary_Currency_Unit == \"Indian Rupees\":\n",
    "            if Salary > 0 and Salary <= 250000:\n",
    "                print(\"In {} if your salary is {} {} then you will pay No Tax\".format(Country, Salary, Salary_Currency_Unit))\n",
    "            elif Salary > 250000 and Salary <= 500000:\n",
    "                tax_amount = Salary * 0.05\n",
    "                print(\"In {} if your salary is {} {} then you will lie within 5% Tax slab paying {} {} in Tax.\".format(Country, Salary, Salary_Currency_Unit, tax_amount, Salary_Currency_Unit))\n",
    "            elif Salary > 500000 and Salary <= 750000:\n",
    "                tax_amount = Salary * 0.10\n",
    "                print(\"In {} if your salary is {} {} then you will lie within 10% Tax slab paying {} {} in Tax.\".format(Country, Salary, Salary_Currency_Unit, tax_amount, Salary_Currency_Unit))\n",
    "            elif Salary > 750000 and Salary <= 1000000:\n",
    "                tax_amount = Salary * 0.15\n",
    "                print(\"In {} if your salary is {} {} then you will lie within 15% Tax slab paying {} {} in Tax.\".format(Country, Salary, Salary_Currency_Unit, tax_amount, Salary_Currency_Unit))\n",
    "            elif Salary > 1000000 and Salary <= 1250000:\n",
    "                tax_amount = Salary * 0.20\n",
    "                print(\"In {} if your salary is {} {} then you will lie within 20% Tax slab paying {} {} in Tax.\".format(Country, Salary, Salary_Currency_Unit, tax_amount, Salary_Currency_Unit))\n",
    "            elif Salary > 1250000 and Salary <= 1500000:\n",
    "                tax_amount = Salary * 0.25\n",
    "                print(\"In {} if your salary is {} {} then you will lie within 25% Tax slab paying {} {} in Tax.\".format(Country, Salary, Salary_Currency_Unit, tax_amount, Salary_Currency_Unit))\n",
    "            elif Salary > 1500000:\n",
    "                tax_amount = Salary * 0.30\n",
    "                print(\"In {} if your salary is {} {} then you will lie within 30% Tax slab paying {} {} in Tax.\".format(Country, Salary, Salary_Currency_Unit, tax_amount, Salary_Currency_Unit))\n",
    "            else:\n",
    "                print(\"Invalid Salary! Enter valid and correct salary.\")\n",
    "        else:\n",
    "            print(\"Invalid Salary Currency Unit! Enter correct Salary Currency Unit as per the country.\")\n",
    "    else:\n",
    "        print(\"Invalid Country! Select either India or Canada as Country.\")\n",
    "\n",
    "tax_slab_identifier()"
   ]
  },
  {
   "cell_type": "code",
   "execution_count": null,
   "id": "972a0c0f",
   "metadata": {},
   "outputs": [],
   "source": []
  }
 ],
 "metadata": {
  "kernelspec": {
   "display_name": "Python 3 (ipykernel)",
   "language": "python",
   "name": "python3"
  },
  "language_info": {
   "codemirror_mode": {
    "name": "ipython",
    "version": 3
   },
   "file_extension": ".py",
   "mimetype": "text/x-python",
   "name": "python",
   "nbconvert_exporter": "python",
   "pygments_lexer": "ipython3",
   "version": "3.9.13"
  }
 },
 "nbformat": 4,
 "nbformat_minor": 5
}
